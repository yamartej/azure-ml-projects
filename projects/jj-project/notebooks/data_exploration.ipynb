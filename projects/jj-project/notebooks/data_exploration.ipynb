{
  "cells": [
    {
      "cell_type": "code",
      "execution_count": 1,
      "metadata": {
        "gather": {
          "logged": 1718380179418
        },
        "id": "xgmDpatcb2YE"
      },
      "outputs": [],
      "source": [
        "import pandas as pd\n",
        "import matplotlib.pyplot as plt\n",
        "import numpy as np\n",
        "import pyarrow as pa\n",
        "import pyarrow.parquet as pq"
      ]
    },
    {
      "cell_type": "code",
      "execution_count": 21,
      "metadata": {
        "colab": {
          "base_uri": "https://localhost:8080/",
          "height": 379
        },
        "gather": {
          "logged": 1718380861348
        },
        "id": "j2JybkoHArdG",
        "outputId": "d84ff1a4-57db-49ea-d923-6c0d7a95ab71"
      },
      "outputs": [
        {
          "data": {
            "text/html": [
              "<div>\n",
              "<style scoped>\n",
              "    .dataframe tbody tr th:only-of-type {\n",
              "        vertical-align: middle;\n",
              "    }\n",
              "\n",
              "    .dataframe tbody tr th {\n",
              "        vertical-align: top;\n",
              "    }\n",
              "\n",
              "    .dataframe thead th {\n",
              "        text-align: right;\n",
              "    }\n",
              "</style>\n",
              "<table border=\"1\" class=\"dataframe\">\n",
              "  <thead>\n",
              "    <tr style=\"text-align: right;\">\n",
              "      <th></th>\n",
              "      <th>RowNumber</th>\n",
              "      <th>Surname</th>\n",
              "      <th>CreditScore</th>\n",
              "      <th>Geography</th>\n",
              "      <th>Gender</th>\n",
              "      <th>Age</th>\n",
              "      <th>Tenure</th>\n",
              "      <th>Balance</th>\n",
              "      <th>NumOfProducts</th>\n",
              "      <th>HasCrCard</th>\n",
              "      <th>IsActiveMember</th>\n",
              "      <th>EstimatedSalary</th>\n",
              "      <th>Exited</th>\n",
              "    </tr>\n",
              "    <tr>\n",
              "      <th>CustomerId</th>\n",
              "      <th></th>\n",
              "      <th></th>\n",
              "      <th></th>\n",
              "      <th></th>\n",
              "      <th></th>\n",
              "      <th></th>\n",
              "      <th></th>\n",
              "      <th></th>\n",
              "      <th></th>\n",
              "      <th></th>\n",
              "      <th></th>\n",
              "      <th></th>\n",
              "      <th></th>\n",
              "    </tr>\n",
              "  </thead>\n",
              "  <tbody>\n",
              "    <tr>\n",
              "      <th>15634602</th>\n",
              "      <td>1</td>\n",
              "      <td>Hargrave</td>\n",
              "      <td>619</td>\n",
              "      <td>France</td>\n",
              "      <td>Female</td>\n",
              "      <td>42</td>\n",
              "      <td>2</td>\n",
              "      <td>0.00</td>\n",
              "      <td>1</td>\n",
              "      <td>1</td>\n",
              "      <td>1</td>\n",
              "      <td>101348.88</td>\n",
              "      <td>1</td>\n",
              "    </tr>\n",
              "    <tr>\n",
              "      <th>15647311</th>\n",
              "      <td>2</td>\n",
              "      <td>Hill</td>\n",
              "      <td>608</td>\n",
              "      <td>Spain</td>\n",
              "      <td>Female</td>\n",
              "      <td>41</td>\n",
              "      <td>1</td>\n",
              "      <td>83807.86</td>\n",
              "      <td>1</td>\n",
              "      <td>0</td>\n",
              "      <td>1</td>\n",
              "      <td>112542.58</td>\n",
              "      <td>0</td>\n",
              "    </tr>\n",
              "    <tr>\n",
              "      <th>15619304</th>\n",
              "      <td>3</td>\n",
              "      <td>Onio</td>\n",
              "      <td>502</td>\n",
              "      <td>France</td>\n",
              "      <td>Female</td>\n",
              "      <td>42</td>\n",
              "      <td>8</td>\n",
              "      <td>159660.80</td>\n",
              "      <td>3</td>\n",
              "      <td>1</td>\n",
              "      <td>0</td>\n",
              "      <td>113931.57</td>\n",
              "      <td>1</td>\n",
              "    </tr>\n",
              "    <tr>\n",
              "      <th>15701354</th>\n",
              "      <td>4</td>\n",
              "      <td>Boni</td>\n",
              "      <td>699</td>\n",
              "      <td>France</td>\n",
              "      <td>Female</td>\n",
              "      <td>39</td>\n",
              "      <td>1</td>\n",
              "      <td>0.00</td>\n",
              "      <td>2</td>\n",
              "      <td>0</td>\n",
              "      <td>0</td>\n",
              "      <td>93826.63</td>\n",
              "      <td>0</td>\n",
              "    </tr>\n",
              "    <tr>\n",
              "      <th>15737888</th>\n",
              "      <td>5</td>\n",
              "      <td>Mitchell</td>\n",
              "      <td>850</td>\n",
              "      <td>Spain</td>\n",
              "      <td>Female</td>\n",
              "      <td>43</td>\n",
              "      <td>2</td>\n",
              "      <td>125510.82</td>\n",
              "      <td>1</td>\n",
              "      <td>1</td>\n",
              "      <td>1</td>\n",
              "      <td>79084.10</td>\n",
              "      <td>0</td>\n",
              "    </tr>\n",
              "  </tbody>\n",
              "</table>\n",
              "</div>"
            ],
            "text/plain": [
              "            RowNumber   Surname  CreditScore Geography  Gender  Age  Tenure  \\\n",
              "CustomerId                                                                    \n",
              "15634602            1  Hargrave          619    France  Female   42       2   \n",
              "15647311            2      Hill          608     Spain  Female   41       1   \n",
              "15619304            3      Onio          502    France  Female   42       8   \n",
              "15701354            4      Boni          699    France  Female   39       1   \n",
              "15737888            5  Mitchell          850     Spain  Female   43       2   \n",
              "\n",
              "              Balance  NumOfProducts  HasCrCard  IsActiveMember  \\\n",
              "CustomerId                                                        \n",
              "15634602         0.00              1          1               1   \n",
              "15647311     83807.86              1          0               1   \n",
              "15619304    159660.80              3          1               0   \n",
              "15701354         0.00              2          0               0   \n",
              "15737888    125510.82              1          1               1   \n",
              "\n",
              "            EstimatedSalary  Exited  \n",
              "CustomerId                           \n",
              "15634602          101348.88       1  \n",
              "15647311          112542.58       0  \n",
              "15619304          113931.57       1  \n",
              "15701354           93826.63       0  \n",
              "15737888           79084.10       0  "
            ]
          },
          "execution_count": 21,
          "metadata": {},
          "output_type": "execute_result"
        }
      ],
      "source": [
        "# read training and test dataset\n",
        "df_training = pd.read_csv('../data/data.csv', sep=',', index_col='CustomerId', na_values='#N/D')\n",
        "\n",
        "# display the first few rows of the training dataset\n",
        "df_training.head()"
      ]
    },
    {
      "cell_type": "code",
      "execution_count": 23,
      "metadata": {
        "colab": {
          "base_uri": "https://localhost:8080/"
        },
        "gather": {
          "logged": 1718380884415
        },
        "id": "m5nVNnlWA1SG",
        "outputId": "ce6c3c0b-cc3a-42b6-8095-94d50648d9ac"
      },
      "outputs": [
        {
          "name": "stdout",
          "output_type": "stream",
          "text": [
            "Column name: CreditScore\n",
            "Data type: int64\n",
            "Number of unique values: 460\n",
            "Number of missing values: 0\n",
            "Sample values: CustomerId\n",
            "15634602    619\n",
            "15647311    608\n",
            "15619304    502\n",
            "Name: CreditScore, dtype: int64\n",
            "------------------------------------------------------------\n",
            "Column name: Geography\n",
            "Data type: object\n",
            "Number of unique values: 3\n",
            "Number of missing values: 0\n",
            "Sample values: CustomerId\n",
            "15634602    France\n",
            "15647311     Spain\n",
            "15619304    France\n",
            "Name: Geography, dtype: object\n",
            "------------------------------------------------------------\n",
            "Column name: Gender\n",
            "Data type: object\n",
            "Number of unique values: 2\n",
            "Number of missing values: 0\n",
            "Sample values: CustomerId\n",
            "15634602    Female\n",
            "15647311    Female\n",
            "15619304    Female\n",
            "Name: Gender, dtype: object\n",
            "------------------------------------------------------------\n",
            "Column name: Age\n",
            "Data type: int64\n",
            "Number of unique values: 70\n",
            "Number of missing values: 0\n",
            "Sample values: CustomerId\n",
            "15634602    42\n",
            "15647311    41\n",
            "15619304    42\n",
            "Name: Age, dtype: int64\n",
            "------------------------------------------------------------\n",
            "Column name: Tenure\n",
            "Data type: int64\n",
            "Number of unique values: 11\n",
            "Number of missing values: 0\n",
            "Sample values: CustomerId\n",
            "15634602    2\n",
            "15647311    1\n",
            "15619304    8\n",
            "Name: Tenure, dtype: int64\n",
            "------------------------------------------------------------\n",
            "Column name: Balance\n",
            "Data type: float64\n",
            "Number of unique values: 6382\n",
            "Number of missing values: 0\n",
            "Sample values: CustomerId\n",
            "15634602         0.00\n",
            "15647311     83807.86\n",
            "15619304    159660.80\n",
            "Name: Balance, dtype: float64\n",
            "------------------------------------------------------------\n",
            "Column name: NumOfProducts\n",
            "Data type: int64\n",
            "Number of unique values: 4\n",
            "Number of missing values: 0\n",
            "Sample values: CustomerId\n",
            "15634602    1\n",
            "15647311    1\n",
            "15619304    3\n",
            "Name: NumOfProducts, dtype: int64\n",
            "------------------------------------------------------------\n",
            "Column name: HasCrCard\n",
            "Data type: int64\n",
            "Number of unique values: 2\n",
            "Number of missing values: 0\n",
            "Sample values: CustomerId\n",
            "15634602    1\n",
            "15647311    0\n",
            "15619304    1\n",
            "Name: HasCrCard, dtype: int64\n",
            "------------------------------------------------------------\n",
            "Column name: IsActiveMember\n",
            "Data type: int64\n",
            "Number of unique values: 2\n",
            "Number of missing values: 0\n",
            "Sample values: CustomerId\n",
            "15634602    1\n",
            "15647311    1\n",
            "15619304    0\n",
            "Name: IsActiveMember, dtype: int64\n",
            "------------------------------------------------------------\n",
            "Column name: EstimatedSalary\n",
            "Data type: float64\n",
            "Number of unique values: 9999\n",
            "Number of missing values: 0\n",
            "Sample values: CustomerId\n",
            "15634602    101348.88\n",
            "15647311    112542.58\n",
            "15619304    113931.57\n",
            "Name: EstimatedSalary, dtype: float64\n",
            "------------------------------------------------------------\n",
            "Column name: Exited\n",
            "Data type: int64\n",
            "Number of unique values: 2\n",
            "Number of missing values: 0\n",
            "Sample values: CustomerId\n",
            "15634602    1\n",
            "15647311    0\n",
            "15619304    1\n",
            "Name: Exited, dtype: int64\n",
            "------------------------------------------------------------\n"
          ]
        }
      ],
      "source": [
        "# Analizar todas las columnas\n",
        "for column in df_training.columns:\n",
        "  print(f\"Column name: {column}\")\n",
        "  print(f\"Data type: {df_training[column].dtype}\")\n",
        "  print(f\"Number of unique values: {df_training[column].nunique()}\")\n",
        "  print(f\"Number of missing values: {df_training[column].isnull().sum()}\")\n",
        "  print(f\"Sample values: {df_training[column].head(3)}\")\n",
        "  print(\"-\" * 60)"
      ]
    },
    {
      "cell_type": "markdown",
      "metadata": {
        "id": "jnp5mc2RA7na"
      },
      "source": [
        "### Conclusiones:\n",
        "1.- Se Elimina las columnas que no aportan Informacion para el estudio: Surname, RowNumber"
      ]
    },
    {
      "cell_type": "code",
      "execution_count": 24,
      "metadata": {
        "gather": {
          "logged": 1718380889318
        },
        "id": "QCESz8RCA4zm"
      },
      "outputs": [
        {
          "ename": "KeyError",
          "evalue": "\"['Surname', 'RowNumber'] not found in axis\"",
          "output_type": "error",
          "traceback": [
            "\u001b[0;31m---------------------------------------------------------------------------\u001b[0m",
            "\u001b[0;31mKeyError\u001b[0m                                  Traceback (most recent call last)",
            "Cell \u001b[0;32mIn[24], line 1\u001b[0m\n\u001b[0;32m----> 1\u001b[0m \u001b[43mdf_training\u001b[49m\u001b[38;5;241;43m.\u001b[39;49m\u001b[43mdrop\u001b[49m\u001b[43m(\u001b[49m\u001b[43mcolumns\u001b[49m\u001b[43m \u001b[49m\u001b[38;5;241;43m=\u001b[39;49m\u001b[43m \u001b[49m\u001b[43m[\u001b[49m\u001b[38;5;124;43m'\u001b[39;49m\u001b[38;5;124;43mSurname\u001b[39;49m\u001b[38;5;124;43m'\u001b[39;49m\u001b[43m,\u001b[49m\u001b[43m \u001b[49m\u001b[38;5;124;43m'\u001b[39;49m\u001b[38;5;124;43mRowNumber\u001b[39;49m\u001b[38;5;124;43m'\u001b[39;49m\u001b[43m]\u001b[49m\u001b[43m,\u001b[49m\u001b[43m \u001b[49m\u001b[43minplace\u001b[49m\u001b[43m \u001b[49m\u001b[38;5;241;43m=\u001b[39;49m\u001b[43m \u001b[49m\u001b[38;5;28;43;01mTrue\u001b[39;49;00m\u001b[43m)\u001b[49m\n\u001b[1;32m      2\u001b[0m \u001b[38;5;66;03m#df_test.drop(columns = ['Age','Years_employed'], inplace = True)\u001b[39;00m\n",
            "File \u001b[0;32m/anaconda/envs/azureml_py310_sdkv2/lib/python3.10/site-packages/pandas/core/frame.py:5258\u001b[0m, in \u001b[0;36mDataFrame.drop\u001b[0;34m(self, labels, axis, index, columns, level, inplace, errors)\u001b[0m\n\u001b[1;32m   5110\u001b[0m \u001b[38;5;28;01mdef\u001b[39;00m \u001b[38;5;21mdrop\u001b[39m(\n\u001b[1;32m   5111\u001b[0m     \u001b[38;5;28mself\u001b[39m,\n\u001b[1;32m   5112\u001b[0m     labels: IndexLabel \u001b[38;5;241m=\u001b[39m \u001b[38;5;28;01mNone\u001b[39;00m,\n\u001b[0;32m   (...)\u001b[0m\n\u001b[1;32m   5119\u001b[0m     errors: IgnoreRaise \u001b[38;5;241m=\u001b[39m \u001b[38;5;124m\"\u001b[39m\u001b[38;5;124mraise\u001b[39m\u001b[38;5;124m\"\u001b[39m,\n\u001b[1;32m   5120\u001b[0m ) \u001b[38;5;241m-\u001b[39m\u001b[38;5;241m>\u001b[39m DataFrame \u001b[38;5;241m|\u001b[39m \u001b[38;5;28;01mNone\u001b[39;00m:\n\u001b[1;32m   5121\u001b[0m \u001b[38;5;250m    \u001b[39m\u001b[38;5;124;03m\"\"\"\u001b[39;00m\n\u001b[1;32m   5122\u001b[0m \u001b[38;5;124;03m    Drop specified labels from rows or columns.\u001b[39;00m\n\u001b[1;32m   5123\u001b[0m \n\u001b[0;32m   (...)\u001b[0m\n\u001b[1;32m   5256\u001b[0m \u001b[38;5;124;03m            weight  1.0     0.8\u001b[39;00m\n\u001b[1;32m   5257\u001b[0m \u001b[38;5;124;03m    \"\"\"\u001b[39;00m\n\u001b[0;32m-> 5258\u001b[0m     \u001b[38;5;28;01mreturn\u001b[39;00m \u001b[38;5;28;43msuper\u001b[39;49m\u001b[43m(\u001b[49m\u001b[43m)\u001b[49m\u001b[38;5;241;43m.\u001b[39;49m\u001b[43mdrop\u001b[49m\u001b[43m(\u001b[49m\n\u001b[1;32m   5259\u001b[0m \u001b[43m        \u001b[49m\u001b[43mlabels\u001b[49m\u001b[38;5;241;43m=\u001b[39;49m\u001b[43mlabels\u001b[49m\u001b[43m,\u001b[49m\n\u001b[1;32m   5260\u001b[0m \u001b[43m        \u001b[49m\u001b[43maxis\u001b[49m\u001b[38;5;241;43m=\u001b[39;49m\u001b[43maxis\u001b[49m\u001b[43m,\u001b[49m\n\u001b[1;32m   5261\u001b[0m \u001b[43m        \u001b[49m\u001b[43mindex\u001b[49m\u001b[38;5;241;43m=\u001b[39;49m\u001b[43mindex\u001b[49m\u001b[43m,\u001b[49m\n\u001b[1;32m   5262\u001b[0m \u001b[43m        \u001b[49m\u001b[43mcolumns\u001b[49m\u001b[38;5;241;43m=\u001b[39;49m\u001b[43mcolumns\u001b[49m\u001b[43m,\u001b[49m\n\u001b[1;32m   5263\u001b[0m \u001b[43m        \u001b[49m\u001b[43mlevel\u001b[49m\u001b[38;5;241;43m=\u001b[39;49m\u001b[43mlevel\u001b[49m\u001b[43m,\u001b[49m\n\u001b[1;32m   5264\u001b[0m \u001b[43m        \u001b[49m\u001b[43minplace\u001b[49m\u001b[38;5;241;43m=\u001b[39;49m\u001b[43minplace\u001b[49m\u001b[43m,\u001b[49m\n\u001b[1;32m   5265\u001b[0m \u001b[43m        \u001b[49m\u001b[43merrors\u001b[49m\u001b[38;5;241;43m=\u001b[39;49m\u001b[43merrors\u001b[49m\u001b[43m,\u001b[49m\n\u001b[1;32m   5266\u001b[0m \u001b[43m    \u001b[49m\u001b[43m)\u001b[49m\n",
            "File \u001b[0;32m/anaconda/envs/azureml_py310_sdkv2/lib/python3.10/site-packages/pandas/core/generic.py:4549\u001b[0m, in \u001b[0;36mNDFrame.drop\u001b[0;34m(self, labels, axis, index, columns, level, inplace, errors)\u001b[0m\n\u001b[1;32m   4547\u001b[0m \u001b[38;5;28;01mfor\u001b[39;00m axis, labels \u001b[38;5;129;01min\u001b[39;00m axes\u001b[38;5;241m.\u001b[39mitems():\n\u001b[1;32m   4548\u001b[0m     \u001b[38;5;28;01mif\u001b[39;00m labels \u001b[38;5;129;01mis\u001b[39;00m \u001b[38;5;129;01mnot\u001b[39;00m \u001b[38;5;28;01mNone\u001b[39;00m:\n\u001b[0;32m-> 4549\u001b[0m         obj \u001b[38;5;241m=\u001b[39m \u001b[43mobj\u001b[49m\u001b[38;5;241;43m.\u001b[39;49m\u001b[43m_drop_axis\u001b[49m\u001b[43m(\u001b[49m\u001b[43mlabels\u001b[49m\u001b[43m,\u001b[49m\u001b[43m \u001b[49m\u001b[43maxis\u001b[49m\u001b[43m,\u001b[49m\u001b[43m \u001b[49m\u001b[43mlevel\u001b[49m\u001b[38;5;241;43m=\u001b[39;49m\u001b[43mlevel\u001b[49m\u001b[43m,\u001b[49m\u001b[43m \u001b[49m\u001b[43merrors\u001b[49m\u001b[38;5;241;43m=\u001b[39;49m\u001b[43merrors\u001b[49m\u001b[43m)\u001b[49m\n\u001b[1;32m   4551\u001b[0m \u001b[38;5;28;01mif\u001b[39;00m inplace:\n\u001b[1;32m   4552\u001b[0m     \u001b[38;5;28mself\u001b[39m\u001b[38;5;241m.\u001b[39m_update_inplace(obj)\n",
            "File \u001b[0;32m/anaconda/envs/azureml_py310_sdkv2/lib/python3.10/site-packages/pandas/core/generic.py:4591\u001b[0m, in \u001b[0;36mNDFrame._drop_axis\u001b[0;34m(self, labels, axis, level, errors, only_slice)\u001b[0m\n\u001b[1;32m   4589\u001b[0m         new_axis \u001b[38;5;241m=\u001b[39m axis\u001b[38;5;241m.\u001b[39mdrop(labels, level\u001b[38;5;241m=\u001b[39mlevel, errors\u001b[38;5;241m=\u001b[39merrors)\n\u001b[1;32m   4590\u001b[0m     \u001b[38;5;28;01melse\u001b[39;00m:\n\u001b[0;32m-> 4591\u001b[0m         new_axis \u001b[38;5;241m=\u001b[39m \u001b[43maxis\u001b[49m\u001b[38;5;241;43m.\u001b[39;49m\u001b[43mdrop\u001b[49m\u001b[43m(\u001b[49m\u001b[43mlabels\u001b[49m\u001b[43m,\u001b[49m\u001b[43m \u001b[49m\u001b[43merrors\u001b[49m\u001b[38;5;241;43m=\u001b[39;49m\u001b[43merrors\u001b[49m\u001b[43m)\u001b[49m\n\u001b[1;32m   4592\u001b[0m     indexer \u001b[38;5;241m=\u001b[39m axis\u001b[38;5;241m.\u001b[39mget_indexer(new_axis)\n\u001b[1;32m   4594\u001b[0m \u001b[38;5;66;03m# Case for non-unique axis\u001b[39;00m\n\u001b[1;32m   4595\u001b[0m \u001b[38;5;28;01melse\u001b[39;00m:\n",
            "File \u001b[0;32m/anaconda/envs/azureml_py310_sdkv2/lib/python3.10/site-packages/pandas/core/indexes/base.py:6696\u001b[0m, in \u001b[0;36mIndex.drop\u001b[0;34m(self, labels, errors)\u001b[0m\n\u001b[1;32m   6694\u001b[0m \u001b[38;5;28;01mif\u001b[39;00m mask\u001b[38;5;241m.\u001b[39many():\n\u001b[1;32m   6695\u001b[0m     \u001b[38;5;28;01mif\u001b[39;00m errors \u001b[38;5;241m!=\u001b[39m \u001b[38;5;124m\"\u001b[39m\u001b[38;5;124mignore\u001b[39m\u001b[38;5;124m\"\u001b[39m:\n\u001b[0;32m-> 6696\u001b[0m         \u001b[38;5;28;01mraise\u001b[39;00m \u001b[38;5;167;01mKeyError\u001b[39;00m(\u001b[38;5;124mf\u001b[39m\u001b[38;5;124m\"\u001b[39m\u001b[38;5;132;01m{\u001b[39;00m\u001b[38;5;28mlist\u001b[39m(labels[mask])\u001b[38;5;132;01m}\u001b[39;00m\u001b[38;5;124m not found in axis\u001b[39m\u001b[38;5;124m\"\u001b[39m)\n\u001b[1;32m   6697\u001b[0m     indexer \u001b[38;5;241m=\u001b[39m indexer[\u001b[38;5;241m~\u001b[39mmask]\n\u001b[1;32m   6698\u001b[0m \u001b[38;5;28;01mreturn\u001b[39;00m \u001b[38;5;28mself\u001b[39m\u001b[38;5;241m.\u001b[39mdelete(indexer)\n",
            "\u001b[0;31mKeyError\u001b[0m: \"['Surname', 'RowNumber'] not found in axis\""
          ]
        }
      ],
      "source": [
        "df_training.drop(columns = ['Surname', 'RowNumber'], inplace = True)\n",
        "#df_test.drop(columns = ['Age','Years_employed'], inplace = True)"
      ]
    },
    {
      "cell_type": "code",
      "execution_count": 25,
      "metadata": {
        "colab": {
          "base_uri": "https://localhost:8080/"
        },
        "gather": {
          "logged": 1718380895455
        },
        "id": "lUn8RikoBArx",
        "outputId": "8a916b52-388f-4092-c41c-ab275d8bc8f1"
      },
      "outputs": [
        {
          "data": {
            "text/plain": [
              "CreditScore        0\n",
              "Geography          0\n",
              "Gender             0\n",
              "Age                0\n",
              "Tenure             0\n",
              "Balance            0\n",
              "NumOfProducts      0\n",
              "HasCrCard          0\n",
              "IsActiveMember     0\n",
              "EstimatedSalary    0\n",
              "Exited             0\n",
              "dtype: int64"
            ]
          },
          "execution_count": 25,
          "metadata": {},
          "output_type": "execute_result"
        }
      ],
      "source": [
        "#Realizamos un análisis de nulos para validar si existen datos faltantes\n",
        "df_training.isna().sum().sort_values(ascending = False)"
      ]
    },
    {
      "cell_type": "markdown",
      "metadata": {
        "id": "7_MYsX17BDFO"
      },
      "source": [
        "Conclusion: Todo bien. No existen datos nulos."
      ]
    },
    {
      "cell_type": "code",
      "execution_count": 26,
      "metadata": {
        "gather": {
          "logged": 1718380898456
        },
        "id": "u6dpr8GRBEa2"
      },
      "outputs": [],
      "source": [
        "#Función de variables categóricas\n",
        "def graficos_eda_categoricos(cat):\n",
        "\n",
        "    #Calculamos el número de filas que necesitamos\n",
        "    from math import ceil\n",
        "    filas = ceil(cat.shape[1] / 2)\n",
        "\n",
        "    #Definimos el gráfico\n",
        "    f, ax = plt.subplots(nrows = filas, ncols = 2, figsize = (16, filas * 6))\n",
        "\n",
        "    #Aplanamos para iterar por el gráfico como si fuera de 1 dimensión en lugar de 2\n",
        "    ax = ax.flat\n",
        "\n",
        "    #Creamos el bucle que va añadiendo gráficos\n",
        "    for cada, variable in enumerate(cat):\n",
        "        cat[variable].value_counts().plot.barh(ax = ax[cada])\n",
        "        ax[cada].set_title(variable, fontsize = 12, fontweight = \"bold\")\n",
        "        ax[cada].tick_params(labelsize = 12)"
      ]
    },
    {
      "cell_type": "code",
      "execution_count": 27,
      "metadata": {
        "colab": {
          "base_uri": "https://localhost:8080/",
          "height": 1000
        },
        "gather": {
          "logged": 1718380901432
        },
        "id": "xIJvKO1KBJhf",
        "outputId": "2001b9ac-d45e-4604-b381-889406fded81"
      },
      "outputs": [
        {
          "data": {
            "image/png": "[encoded data removed]",
            "text/plain": [
              "<Figure size 1600x600 with 2 Axes>"
            ]
          },
          "metadata": {},
          "output_type": "display_data"
        }
      ],
      "source": [
        "#Ejecutamos la función de variables categóricas.\n",
        "graficos_eda_categoricos(df_training.select_dtypes('O'))"
      ]
    },
    {
      "cell_type": "code",
      "execution_count": 28,
      "metadata": {
        "gather": {
          "logged": 1718380904476
        },
        "id": "165q0jCdB28n"
      },
      "outputs": [],
      "source": [
        "def estadisticos_cont(num):\n",
        "    #Calculamos describe\n",
        "    estadisticos = num.describe().T\n",
        "    #Añadimos la mediana\n",
        "    estadisticos['median'] = num.median()\n",
        "    #Reordenamos para que la mediana esté al lado de la media\n",
        "    estadisticos = estadisticos.iloc[:,[0,1,8,2,3,4,5,6,7]]\n",
        "    #Lo devolvemos\n",
        "    return(estadisticos)"
      ]
    },
    {
      "cell_type": "code",
      "execution_count": 32,
      "metadata": {
        "colab": {
          "base_uri": "https://localhost:8080/",
          "height": 426
        },
        "gather": {
          "logged": 1718380974417
        },
        "id": "a8BijmzLB6O2",
        "outputId": "b11433ef-87b9-45c1-9e6b-df46cc94ba07"
      },
      "outputs": [
        {
          "data": {
            "text/html": [
              "<div>\n",
              "<style scoped>\n",
              "    .dataframe tbody tr th:only-of-type {\n",
              "        vertical-align: middle;\n",
              "    }\n",
              "\n",
              "    .dataframe tbody tr th {\n",
              "        vertical-align: top;\n",
              "    }\n",
              "\n",
              "    .dataframe thead th {\n",
              "        text-align: right;\n",
              "    }\n",
              "</style>\n",
              "<table border=\"1\" class=\"dataframe\">\n",
              "  <thead>\n",
              "    <tr style=\"text-align: right;\">\n",
              "      <th></th>\n",
              "      <th>count</th>\n",
              "      <th>mean</th>\n",
              "      <th>median</th>\n",
              "      <th>std</th>\n",
              "      <th>min</th>\n",
              "      <th>25%</th>\n",
              "      <th>50%</th>\n",
              "      <th>75%</th>\n",
              "      <th>max</th>\n",
              "    </tr>\n",
              "  </thead>\n",
              "  <tbody>\n",
              "    <tr>\n",
              "      <th>CreditScore</th>\n",
              "      <td>10000.0</td>\n",
              "      <td>650.528800</td>\n",
              "      <td>652.000</td>\n",
              "      <td>96.653299</td>\n",
              "      <td>350.00</td>\n",
              "      <td>584.00</td>\n",
              "      <td>652.000</td>\n",
              "      <td>718.0000</td>\n",
              "      <td>850.00</td>\n",
              "    </tr>\n",
              "    <tr>\n",
              "      <th>Geography</th>\n",
              "      <td>10000.0</td>\n",
              "      <td>0.746300</td>\n",
              "      <td>0.000</td>\n",
              "      <td>0.827529</td>\n",
              "      <td>0.00</td>\n",
              "      <td>0.00</td>\n",
              "      <td>0.000</td>\n",
              "      <td>1.0000</td>\n",
              "      <td>2.00</td>\n",
              "    </tr>\n",
              "    <tr>\n",
              "      <th>Gender</th>\n",
              "      <td>10000.0</td>\n",
              "      <td>0.545700</td>\n",
              "      <td>1.000</td>\n",
              "      <td>0.497932</td>\n",
              "      <td>0.00</td>\n",
              "      <td>0.00</td>\n",
              "      <td>1.000</td>\n",
              "      <td>1.0000</td>\n",
              "      <td>1.00</td>\n",
              "    </tr>\n",
              "    <tr>\n",
              "      <th>Age</th>\n",
              "      <td>10000.0</td>\n",
              "      <td>38.921800</td>\n",
              "      <td>37.000</td>\n",
              "      <td>10.487806</td>\n",
              "      <td>18.00</td>\n",
              "      <td>32.00</td>\n",
              "      <td>37.000</td>\n",
              "      <td>44.0000</td>\n",
              "      <td>92.00</td>\n",
              "    </tr>\n",
              "    <tr>\n",
              "      <th>Tenure</th>\n",
              "      <td>10000.0</td>\n",
              "      <td>5.012800</td>\n",
              "      <td>5.000</td>\n",
              "      <td>2.892174</td>\n",
              "      <td>0.00</td>\n",
              "      <td>3.00</td>\n",
              "      <td>5.000</td>\n",
              "      <td>7.0000</td>\n",
              "      <td>10.00</td>\n",
              "    </tr>\n",
              "    <tr>\n",
              "      <th>Balance</th>\n",
              "      <td>10000.0</td>\n",
              "      <td>76485.889288</td>\n",
              "      <td>97198.540</td>\n",
              "      <td>62397.405202</td>\n",
              "      <td>0.00</td>\n",
              "      <td>0.00</td>\n",
              "      <td>97198.540</td>\n",
              "      <td>127644.2400</td>\n",
              "      <td>250898.09</td>\n",
              "    </tr>\n",
              "    <tr>\n",
              "      <th>NumOfProducts</th>\n",
              "      <td>10000.0</td>\n",
              "      <td>1.530200</td>\n",
              "      <td>1.000</td>\n",
              "      <td>0.581654</td>\n",
              "      <td>1.00</td>\n",
              "      <td>1.00</td>\n",
              "      <td>1.000</td>\n",
              "      <td>2.0000</td>\n",
              "      <td>4.00</td>\n",
              "    </tr>\n",
              "    <tr>\n",
              "      <th>HasCrCard</th>\n",
              "      <td>10000.0</td>\n",
              "      <td>0.705500</td>\n",
              "      <td>1.000</td>\n",
              "      <td>0.455840</td>\n",
              "      <td>0.00</td>\n",
              "      <td>0.00</td>\n",
              "      <td>1.000</td>\n",
              "      <td>1.0000</td>\n",
              "      <td>1.00</td>\n",
              "    </tr>\n",
              "    <tr>\n",
              "      <th>IsActiveMember</th>\n",
              "      <td>10000.0</td>\n",
              "      <td>0.515100</td>\n",
              "      <td>1.000</td>\n",
              "      <td>0.499797</td>\n",
              "      <td>0.00</td>\n",
              "      <td>0.00</td>\n",
              "      <td>1.000</td>\n",
              "      <td>1.0000</td>\n",
              "      <td>1.00</td>\n",
              "    </tr>\n",
              "    <tr>\n",
              "      <th>EstimatedSalary</th>\n",
              "      <td>10000.0</td>\n",
              "      <td>100090.239881</td>\n",
              "      <td>100193.915</td>\n",
              "      <td>57510.492818</td>\n",
              "      <td>11.58</td>\n",
              "      <td>51002.11</td>\n",
              "      <td>100193.915</td>\n",
              "      <td>149388.2475</td>\n",
              "      <td>199992.48</td>\n",
              "    </tr>\n",
              "    <tr>\n",
              "      <th>Exited</th>\n",
              "      <td>10000.0</td>\n",
              "      <td>0.203700</td>\n",
              "      <td>0.000</td>\n",
              "      <td>0.402769</td>\n",
              "      <td>0.00</td>\n",
              "      <td>0.00</td>\n",
              "      <td>0.000</td>\n",
              "      <td>0.0000</td>\n",
              "      <td>1.00</td>\n",
              "    </tr>\n",
              "  </tbody>\n",
              "</table>\n",
              "</div>"
            ],
            "text/plain": [
              "                   count           mean      median           std     min  \\\n",
              "CreditScore      10000.0     650.528800     652.000     96.653299  350.00   \n",
              "Geography        10000.0       0.746300       0.000      0.827529    0.00   \n",
              "Gender           10000.0       0.545700       1.000      0.497932    0.00   \n",
              "Age              10000.0      38.921800      37.000     10.487806   18.00   \n",
              "Tenure           10000.0       5.012800       5.000      2.892174    0.00   \n",
              "Balance          10000.0   76485.889288   97198.540  62397.405202    0.00   \n",
              "NumOfProducts    10000.0       1.530200       1.000      0.581654    1.00   \n",
              "HasCrCard        10000.0       0.705500       1.000      0.455840    0.00   \n",
              "IsActiveMember   10000.0       0.515100       1.000      0.499797    0.00   \n",
              "EstimatedSalary  10000.0  100090.239881  100193.915  57510.492818   11.58   \n",
              "Exited           10000.0       0.203700       0.000      0.402769    0.00   \n",
              "\n",
              "                      25%         50%          75%        max  \n",
              "CreditScore        584.00     652.000     718.0000     850.00  \n",
              "Geography            0.00       0.000       1.0000       2.00  \n",
              "Gender               0.00       1.000       1.0000       1.00  \n",
              "Age                 32.00      37.000      44.0000      92.00  \n",
              "Tenure               3.00       5.000       7.0000      10.00  \n",
              "Balance              0.00   97198.540  127644.2400  250898.09  \n",
              "NumOfProducts        1.00       1.000       2.0000       4.00  \n",
              "HasCrCard            0.00       1.000       1.0000       1.00  \n",
              "IsActiveMember       0.00       1.000       1.0000       1.00  \n",
              "EstimatedSalary  51002.11  100193.915  149388.2475  199992.48  \n",
              "Exited               0.00       0.000       0.0000       1.00  "
            ]
          },
          "execution_count": 32,
          "metadata": {},
          "output_type": "execute_result"
        }
      ],
      "source": [
        "estadisticos_cont(df_training.select_dtypes('number'))"
      ]
    },
    {
      "cell_type": "markdown",
      "metadata": {
        "id": "A2PejXJIC8Me"
      },
      "source": [
        "### Conclusión: Basado en la descripción estadística no se observa ninguna columna obviamente irrelevante."
      ]
    },
    {
      "cell_type": "code",
      "execution_count": 33,
      "metadata": {
        "gather": {
          "logged": 1718380983481
        },
        "id": "FvpEA94YC99u"
      },
      "outputs": [],
      "source": [
        "from sklearn.preprocessing import LabelEncoder"
      ]
    },
    {
      "cell_type": "markdown",
      "metadata": {
        "nteract": {
          "transient": {
            "deleting": false
          }
        }
      },
      "source": [
        "## Transformar *Geography* y *Gender* a numericas"
      ]
    },
    {
      "cell_type": "code",
      "execution_count": 30,
      "metadata": {
        "gather": {
          "logged": 1718380960779
        },
        "id": "LUNiP_EGGq7v"
      },
      "outputs": [],
      "source": [
        "categorical_columns = ['Geography', 'Gender']\n",
        "le = LabelEncoder()\n",
        "\n",
        "# Aplica Label Encoding a cada columna categórica\n",
        "for col in categorical_columns:\n",
        "    df_training[col] = le.fit_transform(df_training[col])\n",
        "    "
      ]
    },
    {
      "cell_type": "code",
      "execution_count": 31,
      "metadata": {
        "colab": {
          "base_uri": "https://localhost:8080/",
          "height": 582
        },
        "gather": {
          "logged": 1718380965439
        },
        "id": "45JqJYj-GwiF",
        "outputId": "627ce558-f4ea-4335-ba3c-2a8b11703c9d"
      },
      "outputs": [
        {
          "data": {
            "text/html": [
              "<div>\n",
              "<style scoped>\n",
              "    .dataframe tbody tr th:only-of-type {\n",
              "        vertical-align: middle;\n",
              "    }\n",
              "\n",
              "    .dataframe tbody tr th {\n",
              "        vertical-align: top;\n",
              "    }\n",
              "\n",
              "    .dataframe thead th {\n",
              "        text-align: right;\n",
              "    }\n",
              "</style>\n",
              "<table border=\"1\" class=\"dataframe\">\n",
              "  <thead>\n",
              "    <tr style=\"text-align: right;\">\n",
              "      <th></th>\n",
              "      <th>count</th>\n",
              "      <th>mean</th>\n",
              "      <th>median</th>\n",
              "      <th>std</th>\n",
              "      <th>min</th>\n",
              "      <th>25%</th>\n",
              "      <th>50%</th>\n",
              "      <th>75%</th>\n",
              "      <th>max</th>\n",
              "    </tr>\n",
              "  </thead>\n",
              "  <tbody>\n",
              "    <tr>\n",
              "      <th>CreditScore</th>\n",
              "      <td>10000.0</td>\n",
              "      <td>650.528800</td>\n",
              "      <td>652.000</td>\n",
              "      <td>96.653299</td>\n",
              "      <td>350.00</td>\n",
              "      <td>584.00</td>\n",
              "      <td>652.000</td>\n",
              "      <td>718.0000</td>\n",
              "      <td>850.00</td>\n",
              "    </tr>\n",
              "    <tr>\n",
              "      <th>Geography</th>\n",
              "      <td>10000.0</td>\n",
              "      <td>0.746300</td>\n",
              "      <td>0.000</td>\n",
              "      <td>0.827529</td>\n",
              "      <td>0.00</td>\n",
              "      <td>0.00</td>\n",
              "      <td>0.000</td>\n",
              "      <td>1.0000</td>\n",
              "      <td>2.00</td>\n",
              "    </tr>\n",
              "    <tr>\n",
              "      <th>Gender</th>\n",
              "      <td>10000.0</td>\n",
              "      <td>0.545700</td>\n",
              "      <td>1.000</td>\n",
              "      <td>0.497932</td>\n",
              "      <td>0.00</td>\n",
              "      <td>0.00</td>\n",
              "      <td>1.000</td>\n",
              "      <td>1.0000</td>\n",
              "      <td>1.00</td>\n",
              "    </tr>\n",
              "    <tr>\n",
              "      <th>Age</th>\n",
              "      <td>10000.0</td>\n",
              "      <td>38.921800</td>\n",
              "      <td>37.000</td>\n",
              "      <td>10.487806</td>\n",
              "      <td>18.00</td>\n",
              "      <td>32.00</td>\n",
              "      <td>37.000</td>\n",
              "      <td>44.0000</td>\n",
              "      <td>92.00</td>\n",
              "    </tr>\n",
              "    <tr>\n",
              "      <th>Tenure</th>\n",
              "      <td>10000.0</td>\n",
              "      <td>5.012800</td>\n",
              "      <td>5.000</td>\n",
              "      <td>2.892174</td>\n",
              "      <td>0.00</td>\n",
              "      <td>3.00</td>\n",
              "      <td>5.000</td>\n",
              "      <td>7.0000</td>\n",
              "      <td>10.00</td>\n",
              "    </tr>\n",
              "    <tr>\n",
              "      <th>Balance</th>\n",
              "      <td>10000.0</td>\n",
              "      <td>76485.889288</td>\n",
              "      <td>97198.540</td>\n",
              "      <td>62397.405202</td>\n",
              "      <td>0.00</td>\n",
              "      <td>0.00</td>\n",
              "      <td>97198.540</td>\n",
              "      <td>127644.2400</td>\n",
              "      <td>250898.09</td>\n",
              "    </tr>\n",
              "    <tr>\n",
              "      <th>NumOfProducts</th>\n",
              "      <td>10000.0</td>\n",
              "      <td>1.530200</td>\n",
              "      <td>1.000</td>\n",
              "      <td>0.581654</td>\n",
              "      <td>1.00</td>\n",
              "      <td>1.00</td>\n",
              "      <td>1.000</td>\n",
              "      <td>2.0000</td>\n",
              "      <td>4.00</td>\n",
              "    </tr>\n",
              "    <tr>\n",
              "      <th>HasCrCard</th>\n",
              "      <td>10000.0</td>\n",
              "      <td>0.705500</td>\n",
              "      <td>1.000</td>\n",
              "      <td>0.455840</td>\n",
              "      <td>0.00</td>\n",
              "      <td>0.00</td>\n",
              "      <td>1.000</td>\n",
              "      <td>1.0000</td>\n",
              "      <td>1.00</td>\n",
              "    </tr>\n",
              "    <tr>\n",
              "      <th>IsActiveMember</th>\n",
              "      <td>10000.0</td>\n",
              "      <td>0.515100</td>\n",
              "      <td>1.000</td>\n",
              "      <td>0.499797</td>\n",
              "      <td>0.00</td>\n",
              "      <td>0.00</td>\n",
              "      <td>1.000</td>\n",
              "      <td>1.0000</td>\n",
              "      <td>1.00</td>\n",
              "    </tr>\n",
              "    <tr>\n",
              "      <th>EstimatedSalary</th>\n",
              "      <td>10000.0</td>\n",
              "      <td>100090.239881</td>\n",
              "      <td>100193.915</td>\n",
              "      <td>57510.492818</td>\n",
              "      <td>11.58</td>\n",
              "      <td>51002.11</td>\n",
              "      <td>100193.915</td>\n",
              "      <td>149388.2475</td>\n",
              "      <td>199992.48</td>\n",
              "    </tr>\n",
              "    <tr>\n",
              "      <th>Exited</th>\n",
              "      <td>10000.0</td>\n",
              "      <td>0.203700</td>\n",
              "      <td>0.000</td>\n",
              "      <td>0.402769</td>\n",
              "      <td>0.00</td>\n",
              "      <td>0.00</td>\n",
              "      <td>0.000</td>\n",
              "      <td>0.0000</td>\n",
              "      <td>1.00</td>\n",
              "    </tr>\n",
              "  </tbody>\n",
              "</table>\n",
              "</div>"
            ],
            "text/plain": [
              "                   count           mean      median           std     min  \\\n",
              "CreditScore      10000.0     650.528800     652.000     96.653299  350.00   \n",
              "Geography        10000.0       0.746300       0.000      0.827529    0.00   \n",
              "Gender           10000.0       0.545700       1.000      0.497932    0.00   \n",
              "Age              10000.0      38.921800      37.000     10.487806   18.00   \n",
              "Tenure           10000.0       5.012800       5.000      2.892174    0.00   \n",
              "Balance          10000.0   76485.889288   97198.540  62397.405202    0.00   \n",
              "NumOfProducts    10000.0       1.530200       1.000      0.581654    1.00   \n",
              "HasCrCard        10000.0       0.705500       1.000      0.455840    0.00   \n",
              "IsActiveMember   10000.0       0.515100       1.000      0.499797    0.00   \n",
              "EstimatedSalary  10000.0  100090.239881  100193.915  57510.492818   11.58   \n",
              "Exited           10000.0       0.203700       0.000      0.402769    0.00   \n",
              "\n",
              "                      25%         50%          75%        max  \n",
              "CreditScore        584.00     652.000     718.0000     850.00  \n",
              "Geography            0.00       0.000       1.0000       2.00  \n",
              "Gender               0.00       1.000       1.0000       1.00  \n",
              "Age                 32.00      37.000      44.0000      92.00  \n",
              "Tenure               3.00       5.000       7.0000      10.00  \n",
              "Balance              0.00   97198.540  127644.2400  250898.09  \n",
              "NumOfProducts        1.00       1.000       2.0000       4.00  \n",
              "HasCrCard            0.00       1.000       1.0000       1.00  \n",
              "IsActiveMember       0.00       1.000       1.0000       1.00  \n",
              "EstimatedSalary  51002.11  100193.915  149388.2475  199992.48  \n",
              "Exited               0.00       0.000       0.0000       1.00  "
            ]
          },
          "execution_count": 31,
          "metadata": {},
          "output_type": "execute_result"
        }
      ],
      "source": [
        "estadisticos_cont(df_training.select_dtypes('number'))"
      ]
    },
    {
      "cell_type": "code",
      "execution_count": 34,
      "metadata": {
        "gather": {
          "logged": 1718380990558
        },
        "id": "KzxArmHYHfUU"
      },
      "outputs": [],
      "source": [
        "# convert data to table\n",
        "table_training = pa.Table.from_pandas(df_training)\n",
        "#table_test = pa.Table.from_pandas(df_test)"
      ]
    },
    {
      "cell_type": "code",
      "execution_count": 35,
      "metadata": {
        "gather": {
          "logged": 1718381020386
        },
        "id": "2lmBIt9uHjcU"
      },
      "outputs": [],
      "source": [
        "# write tables out to parquet\n",
        "pq.write_table(table_training, \"../data/train-data/data.parquet\", version=\"1.0\")\n",
        "# pq.write_table(table_test, \"../data/test-data/data-test.parquet\", version=\"1.0\")"
      ]
    }
  ],
  "metadata": {
    "colab": {
      "provenance": []
    },
    "kernel_info": {
      "name": "python310-sdkv2"
    },
    "kernelspec": {
      "display_name": "Python 3.10 - SDK v2",
      "language": "python",
      "name": "python310-sdkv2"
    },
    "language_info": {
      "codemirror_mode": {
        "name": "ipython",
        "version": 3
      },
      "file_extension": ".py",
      "mimetype": "text/x-python",
      "name": "python",
      "nbconvert_exporter": "python",
      "pygments_lexer": "ipython3",
      "version": "3.10.11"
    },
    "microsoft": {
      "host": {
        "AzureML": {
          "notebookHasBeenCompleted": true
        }
      },
      "ms_spell_check": {
        "ms_spell_check_language": "es"
      }
    },
    "nteract": {
      "version": "nteract-front-end@1.0.0"
    }
  },
  "nbformat": 4,
  "nbformat_minor": 0
}
